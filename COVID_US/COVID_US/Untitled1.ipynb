{
 "cells": [
  {
   "cell_type": "code",
   "execution_count": 3,
   "id": "61931f63-9e33-4da0-9102-adc73edfd223",
   "metadata": {},
   "outputs": [
    {
     "name": "stdout",
     "output_type": "stream",
     "text": [
      "<__main__.Menu object at 0x0000021FC3632B00>\n"
     ]
    }
   ],
   "source": [
    "class Menu:\n",
    " def __init__(self, name, items, start_time, end_time):\n",
    "  self.name = name\n",
    "  self.items = items\n",
    "  self.start_time = start_time\n",
    "  self.end_time = end_time\n",
    " \n",
    " def _repr__(self):\n",
    "  self.representative_string = self.name + ' available from ' + str(self.start_time) + ' until ' + str(self.end_time)\n",
    "  return self.representative_string\n",
    "\n",
    "###\n",
    "\n",
    "brunch_items = {'pancakes': 7.50, 'waffles': 9.00, 'burger': 11.00, 'home fries': 4.50, 'coffee': 1.50, 'espresso': 3.00, 'tea': 1.00, 'mimosa': 10.50, 'orange juice': 3.50}\n",
    "\n",
    "brunch = Menu('brunch', brunch_items, 1100, 1600)\n",
    "\n",
    "print(brunch)"
   ]
  },
  {
   "cell_type": "code",
   "execution_count": null,
   "id": "99464b22-0245-4651-8132-84f50be9e1c7",
   "metadata": {},
   "outputs": [],
   "source": []
  }
 ],
 "metadata": {
  "kernelspec": {
   "display_name": "Python 3",
   "language": "python",
   "name": "python3"
  },
  "language_info": {
   "codemirror_mode": {
    "name": "ipython",
    "version": 3
   },
   "file_extension": ".py",
   "mimetype": "text/x-python",
   "name": "python",
   "nbconvert_exporter": "python",
   "pygments_lexer": "ipython3",
   "version": "3.7.1"
  }
 },
 "nbformat": 4,
 "nbformat_minor": 5
}
